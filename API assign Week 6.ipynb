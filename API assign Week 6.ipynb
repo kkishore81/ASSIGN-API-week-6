{
 "cells": [
  {
   "cell_type": "code",
   "execution_count": null,
   "id": "274ecdc8-8ba2-4538-b0ba-3a976ea01469",
   "metadata": {},
   "outputs": [],
   "source": [
    "# Q1. What is an API? Give an example, where an API is used in real life."
   ]
  },
  {
   "cell_type": "code",
   "execution_count": 1,
   "id": "fc910a98-f321-455c-83f2-dc592491fb43",
   "metadata": {},
   "outputs": [],
   "source": [
    "# An API (Application Programming Interface) is a set of rules and protocols that allows different software applications to communicate \n",
    "# and interact with each other. It provides a standardized way for developers to access and utilize the functionalities and data of another\n",
    "# application or service.\n",
    "\n",
    "#real life use - social media platofrms, ecoomerce websites"
   ]
  },
  {
   "cell_type": "code",
   "execution_count": null,
   "id": "3c6c2b86-3c45-4dd9-b453-08a7be8d31c5",
   "metadata": {},
   "outputs": [],
   "source": [
    "Q2. Give advantages and disadvantages of using API. "
   ]
  },
  {
   "cell_type": "code",
   "execution_count": null,
   "id": "c1d8d142-2eaf-482c-a9ca-910e7ddd78a5",
   "metadata": {},
   "outputs": [],
   "source": [
    "\"Advantages of using APIs:\n",
    "\n",
    "Increased efficiency and productivity.\n",
    "Seamless integration and interoperability.\n",
    "Enhanced scalability and flexibility.\n",
    "Foster innovation and collaboration.\n",
    "Improved user experience and personalization.\n",
    "\n",
    "Disadvantages of using APIs:\n",
    "\n",
    "Dependency on external services and potential disruptions.\n",
    "Limited control over updates and changes.\n",
    "Security risks and vulnerabilities.\n",
    "Compatibility concerns with evolving API versions.\n",
    "Potential performance impact and latency issues.\""
   ]
  },
  {
   "cell_type": "code",
   "execution_count": null,
   "id": "57fcca39-1a1e-450b-8ade-270995fa378d",
   "metadata": {},
   "outputs": [],
   "source": [
    "#Q3. What is a Web API? Differentiate between API and Web API."
   ]
  },
  {
   "cell_type": "code",
   "execution_count": 4,
   "id": "21822a2e-f094-408d-8621-cf8e6959aa4f",
   "metadata": {},
   "outputs": [],
   "source": [
    "#\" A Web API is a specific type of API that is accessed over the web using HTTP protocols. It follows a set of guidelines and standards\n",
    "# for web-based communication. While API is a general term referring to any set of rules for software interaction,\n",
    "# a Web API specifically focuses on providing web-based services accessible through URLs and standardized protocols like REST or SOAP.\""
   ]
  },
  {
   "cell_type": "code",
   "execution_count": 3,
   "id": "f97bd52e-9224-4e41-acf4-c4a32e0c9515",
   "metadata": {},
   "outputs": [],
   "source": [
    "# Q4. Explain REST and SOAP Architecture. Mention shortcomings of SOAP."
   ]
  },
  {
   "cell_type": "code",
   "execution_count": null,
   "id": "1e7e642f-a7db-44f1-bfb6-d725739363d8",
   "metadata": {},
   "outputs": [],
   "source": [
    " # REST is an architectural style for web services that emphasizes stateless, lightweight communication using standard HTTP methods. \n",
    " # SOAP, on the other hand, is a protocol that uses XML for message formatting and can employ various transport protocols. \n",
    " # SOAP is slightly complex, slower performance, limited scalability, lack of flexibility, and interoperability challenges."
   ]
  },
  {
   "cell_type": "code",
   "execution_count": null,
   "id": "32ea6ad0-ca91-41a4-801a-8cc8e04355b4",
   "metadata": {},
   "outputs": [],
   "source": [
    "#Q5. Differentiate between REST and SOAP."
   ]
  },
  {
   "cell_type": "code",
   "execution_count": null,
   "id": "d7769da2-214d-478a-af91-3920a36b65a2",
   "metadata": {},
   "outputs": [],
   "source": [
    "# REST: REST is an architectural style for designing web services that uses HTTP methods to perform operations on resources. \n",
    " It is simple and lightweight, making it easy to implement and use.\n",
    "\n",
    "SOAP: SOAP is a protocol for exchanging structured information in a decentralized, distributed environment. It is more complex than REST, but it provides a richer set of features, \n",
    "such as security and reliability."
   ]
  }
 ],
 "metadata": {
  "kernelspec": {
   "display_name": "Python 3 (ipykernel)",
   "language": "python",
   "name": "python3"
  },
  "language_info": {
   "codemirror_mode": {
    "name": "ipython",
    "version": 3
   },
   "file_extension": ".py",
   "mimetype": "text/x-python",
   "name": "python",
   "nbconvert_exporter": "python",
   "pygments_lexer": "ipython3",
   "version": "3.10.8"
  }
 },
 "nbformat": 4,
 "nbformat_minor": 5
}
